{
 "cells": [
  {
   "cell_type": "code",
   "execution_count": 1,
   "id": "0a5fdbb9",
   "metadata": {},
   "outputs": [],
   "source": [
    "import matplotlib.pyplot as plt \n",
    "import random\n"
   ]
  },
  {
   "cell_type": "code",
   "execution_count": 2,
   "id": "9dcdcb87",
   "metadata": {},
   "outputs": [],
   "source": [
    "def gen_U(n, C, a, m, Z_1):\n",
    "    '''generates a vector of uniformly distribued numbers from <0,1> interval\n",
    "    ------------------------------\n",
    "    Parameters: \n",
    "    n- length of probe\n",
    "    C,a,m,Z_1- constants, where\n",
    "    n<<m\n",
    "    ''' \n",
    "    Z = [Z_1]\n",
    "    \n",
    "    for i in range(1,n):\n",
    "        z = (a*Z[i-1] + C)%m\n",
    "        Z.append(z)\n",
    "    U = [Z[i]/m for i in range(len(Z))]\n",
    "    return U \n",
    "    "
   ]
  },
  {
   "cell_type": "code",
   "execution_count": 14,
   "id": "609765f9",
   "metadata": {},
   "outputs": [
    {
     "data": {
      "text/plain": [
       "[4.656612873077393e-10,\n",
       " 7.831025868654251e-06,\n",
       " 0.13161605643108487,\n",
       " 0.07106044190004468,\n",
       " 0.3128470187075436,\n",
       " 0.0198434223420918,\n",
       " 0.508399308193475,\n",
       " 0.6671728123910725,\n",
       " 0.17345786141231656,\n",
       " 0.3062767614610493]"
      ]
     },
     "execution_count": 14,
     "metadata": {},
     "output_type": "execute_result"
    }
   ],
   "source": [
    "gen_U(10, 10, 7**5, 2**31, 1)"
   ]
  },
  {
   "cell_type": "code",
   "execution_count": 3,
   "id": "9ab471ff",
   "metadata": {},
   "outputs": [],
   "source": [
    "u = gen_U(10000, 0, 7**5, 2**32, 1)"
   ]
  },
  {
   "cell_type": "code",
   "execution_count": 16,
   "id": "48532210",
   "metadata": {},
   "outputs": [],
   "source": [
    "EU = sum(u)/10000"
   ]
  },
  {
   "cell_type": "code",
   "execution_count": 17,
   "id": "9440ba35",
   "metadata": {},
   "outputs": [],
   "source": [
    "VarU = sum([(u[i] - EU)**2 for i in range(len(u))])/10000\n"
   ]
  },
  {
   "cell_type": "code",
   "execution_count": 18,
   "id": "ec7b9e2d",
   "metadata": {},
   "outputs": [
    {
     "name": "stdout",
     "output_type": "stream",
     "text": [
      "Statistical tests: EU= 0.49518477127105, VarU= 0.08273256033169187\n"
     ]
    }
   ],
   "source": [
    "print(\"Statistical tests: EU= {}, VarU= {}\".format(EU, VarU))"
   ]
  },
  {
   "cell_type": "code",
   "execution_count": 19,
   "id": "17a1c08a",
   "metadata": {},
   "outputs": [
    {
     "data": {
      "text/plain": [
       "<matplotlib.legend.Legend at 0x7ff562e67c40>"
      ]
     },
     "execution_count": 19,
     "metadata": {},
     "output_type": "execute_result"
    },
    {
     "data": {
      "image/png": "[encoded data removed]",
      "text/plain": [
       "<Figure size 432x288 with 1 Axes>"
      ]
     },
     "metadata": {
      "needs_background": "light"
     },
     "output_type": "display_data"
    }
   ],
   "source": [
    "plt.hist(u, bins=20, density=True, alpha=0.7, edgecolor=\"k\", label = \"Empirical Density\")\n",
    "plt.hlines(y = 1 , xmin = 0, xmax = 1, color = \"r\", label =\"Theoretical density\")\n",
    "\n",
    "plt.xlabel(\"u\")\n",
    "plt.ylabel(\"Density\")\n",
    "plt.legend()\n"
   ]
  },
  {
   "cell_type": "code",
   "execution_count": 21,
   "id": "305be017",
   "metadata": {},
   "outputs": [
    {
     "data": {
      "image/png": "[encoded data removed]",
      "text/plain": [
       "<Figure size 432x288 with 1 Axes>"
      ]
     },
     "metadata": {
      "needs_background": "light"
     },
     "output_type": "display_data"
    }
   ],
   "source": [
    "for i in range(len(u)):\n",
    "    plt.scatter(u[i],u[i-1], color = \"g\")"
   ]
  },
  {
   "attachments": {},
   "cell_type": "markdown",
   "id": "a4dd5b96",
   "metadata": {},
   "source": [
    "### Comparison between implemented generator and random.random() method"
   ]
  },
  {
   "cell_type": "code",
   "execution_count": 5,
   "id": "ba64480f",
   "metadata": {},
   "outputs": [],
   "source": [
    "u1 = [random.random() for i in range(10000)] # \n",
    "\n",
    "plt.hist(u1, bins=20, density=True, alpha=0.7, edgecolor=\"k\", label = \"Empirical Density of u1\")\n",
    "plt.hist(u, bins=20, density=True, color=\"cyan\", alpha=0.7, edgecolor=\"k\", label = \"Empirical Density of u\")\n",
    "\n",
    "plt.hlines(y = 1 , xmin = 0, xmax = 1, color = \"r\", label =\"Theoretical density\")\n",
    "\n",
    "plt.xlabel(\"u\")\n",
    "plt.ylabel(\"Density\")\n",
    "plt.legend()\n"
   ]
  },
  {
   "cell_type": "code",
   "execution_count": 6,
   "id": "d306b29f",
   "metadata": {},
   "outputs": [
    {
     "data": {
      "text/plain": [
       "<matplotlib.legend.Legend at 0x7f7bfdeed820>"
      ]
     },
     "execution_count": 6,
     "metadata": {},
     "output_type": "execute_result"
    },
    {
     "data": {
      "image/png": "[encoded data removed]",
      "text/plain": [
       "<Figure size 432x288 with 1 Axes>"
      ]
     },
     "metadata": {
      "needs_background": "light"
     },
     "output_type": "display_data"
    }
   ],
   "source": [
    "plt.hist([abs(u1[i] - u[i]) for i in range(len(u))], bins=20, alpha=0.7, edgecolor=\"k\", label = \"Differences between u1 and u\")\n",
    "plt.legend()\n"
   ]
  },
  {
   "attachments": {},
   "cell_type": "markdown",
   "id": "fb088e98",
   "metadata": {},
   "source": [
    "### This means that implemented algorithm is getting better for bigger probes."
   ]
  },
  {
   "cell_type": "markdown",
   "id": "a0d9c1d5",
   "metadata": {},
   "source": []
  }
 ],
 "metadata": {
  "kernelspec": {
   "display_name": "Python 3 (ipykernel)",
   "language": "python",
   "name": "python3"
  },
  "language_info": {
   "codemirror_mode": {
    "name": "ipython",
    "version": 3
   },
   "file_extension": ".py",
   "mimetype": "text/x-python",
   "name": "python",
   "nbconvert_exporter": "python",
   "pygments_lexer": "ipython3",
   "version": "3.8.10"
  }
 },
 "nbformat": 4,
 "nbformat_minor": 5
}
